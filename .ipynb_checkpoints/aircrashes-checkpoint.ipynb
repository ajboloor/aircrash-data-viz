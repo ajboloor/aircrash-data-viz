{
 "cells": [
  {
   "cell_type": "code",
   "execution_count": 1,
   "metadata": {},
   "outputs": [
    {
     "data": {
      "text/html": [
       "<iframe id=\"igraph\" scrolling=\"no\" style=\"border:none;\" seamless=\"seamless\" src=\"https://plot.ly/~ajboloor/6.embed\" height=\"525px\" width=\"100%\"></iframe>"
      ],
      "text/plain": [
       "<plotly.tools.PlotlyDisplay object>"
      ]
     },
     "execution_count": 1,
     "metadata": {},
     "output_type": "execute_result"
    }
   ],
   "source": [
    "import plotly.plotly as py\n",
    "import plotly.graph_objs as go\n",
    "import pandas as pd\n",
    "import plotly \n",
    "import colorlover as cl\n",
    "from IPython.display import HTML\n",
    "\n",
    "df = pd.read_csv('Airplane_Crashes_and_Fatalities_Since_1908_updated.csv')\n",
    "df.head()\n",
    "\n",
    "limits = [(0,10),(11,50),(51,100),(101,500),(501,5000)]\n",
    "sizes = [4, 6, 8, 16, 32]\n",
    "colors =  cl.flipper()['div'][str(len(limits))]['RdYlBu'][::-1]\n",
    "\n",
    "locations = []\n",
    "scale = 10\n",
    "\n",
    "df['fatalities_total'] = df['Fatalities'] + df['Ground']\n",
    "df['text'] = '<b>Location:</b> ' + df['Location'] + '<br>' +\\\n",
    "    '<b>Onboard:</b> '+ df['Aboard'].astype(str) + '<br>' +\\\n",
    "    '<b>Fatalities (Air):</b> '+ df['Fatalities'].astype(str) + '<br>' +\\\n",
    "    '<b>Fatalities (Ground):</b> '+ df['Ground'].astype(str) + '<br>' +\\\n",
    "    '<b>Operator:</b> '+ df['Operator'].astype(str) + '<br>' +\\\n",
    "    '<b>Flight No.:</b> '+ df['Flight #'].astype(str) + '<br>' +\\\n",
    "    '<b>Route:</b> '+ df['Route'].astype(str) + '<br>' +\\\n",
    "    '<b>Type:</b> '+ df['Type'].astype(str)\n",
    "#'Notes: '+df['Summary']\n",
    "\n",
    "for i in range(len(limits)):\n",
    "    lim = limits[i]\n",
    "    df_sub = df[(df['fatalities_total'] >= lim[0]) & (df['fatalities_total'] <= lim[1])]\n",
    "    locs = dict(\n",
    "        type = 'scattergeo',\n",
    "        locationmode = 'country names',\n",
    "        lon = df_sub['Longitude'],\n",
    "        lat = df_sub['Latitude'],\n",
    "        text = df_sub['text'],\n",
    "        marker = dict(\n",
    "            size = sizes[i],\n",
    "            sizeref = 2. * max(sizes) / (8 ** 2),\n",
    "            opacity = 0.7,\n",
    "            color = colors[i],\n",
    "            line = dict(width=0.5, color='rgb(40,40,40)'),\n",
    "            sizemode = 'area'\n",
    "        ),\n",
    "        name = '{0} - {1}'.format(lim[0],lim[1]) + ' Casualties'\n",
    "    )  \n",
    "    locations.append(locs)\n",
    "\n",
    "layout = dict(\n",
    "    geo = dict(\n",
    "        scope = 'global',\n",
    "        showland = True,\n",
    "        landcolor = \"rgb(212, 212, 212)\",\n",
    "        subunitcolor = \"rgb(255, 255, 255)\",\n",
    "        countrycolor = \"rgb(255, 255, 255)\",\n",
    "        showlakes = True,\n",
    "        lakecolor = \"rgb(255, 255, 255)\",\n",
    "        showsubunits = True,\n",
    "        showcountries = True,\n",
    "        resolution = 10,\n",
    "    ),\n",
    "    title = 'Aircrash Data 1908 - 2009',\n",
    ")\n",
    "\n",
    "fig = dict( data=locations, layout=layout )\n",
    "plotly.offline.plot(fig, filename='aircrash.html')\n",
    "py.iplot( fig, validate=False, filename='d3-aircrash')"
   ]
  },
  {
   "cell_type": "code",
   "execution_count": null,
   "metadata": {},
   "outputs": [],
   "source": []
  }
 ],
 "metadata": {
  "kernelspec": {
   "display_name": "Python 2",
   "language": "python",
   "name": "python2"
  },
  "language_info": {
   "codemirror_mode": {
    "name": "ipython",
    "version": 2
   },
   "file_extension": ".py",
   "mimetype": "text/x-python",
   "name": "python",
   "nbconvert_exporter": "python",
   "pygments_lexer": "ipython2",
   "version": "2.7.12"
  }
 },
 "nbformat": 4,
 "nbformat_minor": 2
}
